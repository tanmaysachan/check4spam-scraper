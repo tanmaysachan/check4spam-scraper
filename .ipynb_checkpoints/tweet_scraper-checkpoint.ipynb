{
 "cells": [
  {
   "cell_type": "code",
   "execution_count": 13,
   "metadata": {
    "scrolled": true
   },
   "outputs": [],
   "source": [
    "import csv\n",
    "import time\n",
    "import tweepy\n",
    "import json\n",
    "from tweepy import OAuthHandler\n",
    "import pandas as pd\n",
    "import pickle as pkl\n",
    "import math\n",
    "from datetime import datetime\n",
    "import os\n",
    "import urllib.request"
   ]
  },
  {
   "cell_type": "code",
   "execution_count": 7,
   "metadata": {},
   "outputs": [],
   "source": [
    "# Tweepy Initialization\n",
    "\n",
    "consumer_key = 'LydBaZlcnj64wAhz2zqYSSDG8'\n",
    "consumer_secret = 'lNDf9f9xcz3qjbXVxcKaF65t8vEvwpDlRQbljwLWS6NOst0rWb'\n",
    "access_token = '747987764579176448-TmAC6q6EYzK2czKk2wpwSBCycYFjLpd'\n",
    "access_secret = 'PHaIgoAFNZVdocFVepu3MwrMauzWlDSrTjVBUSrcpUTcD'\n",
    "\n",
    "auth = OAuthHandler(consumer_key, consumer_secret)\n",
    "auth.set_access_token(access_token, access_secret)\n",
    "\n",
    "api = tweepy.API(auth,wait_on_rate_limit=True)"
   ]
  },
  {
   "cell_type": "code",
   "execution_count": 15,
   "metadata": {},
   "outputs": [],
   "source": [
    "# Data Loading and file checks\n",
    "data = pd.read_csv('data.csv',sep='>')\n",
    "tweets_to_scrape = list(data['tweet_ids'])\n",
    "\n",
    "if not os.path.exists('tweet_imgs'):\n",
    "    os.makedirs('tweet_imgs')"
   ]
  },
  {
   "cell_type": "code",
   "execution_count": 21,
   "metadata": {},
   "outputs": [
    {
     "name": "stdout",
     "output_type": "stream",
     "text": [
      "1269691132545564674\n"
     ]
    }
   ],
   "source": [
    "errorIds = []\n",
    "\n",
    "for tid in tweets_to_scrape:\n",
    "    if type(tid) != float:\n",
    "        try:\n",
    "            tweet_data = api.get_status(int(tid))\n",
    "            for i in range(len(tweet_data.entities[\"media\"])):\n",
    "                media =  tweet_data.entities[\"media\"][i]\n",
    "                filename = './tweet_imgs/'+str(tid)+'_'+str(i)+'.jpg'\n",
    "                urllib.request.urlretrieve(media['media_url'], filename)\n",
    "        except:\n",
    "            errorIds.append(int(tid))\n",
    "            print(tid)"
   ]
  },
  {
   "cell_type": "code",
   "execution_count": null,
   "metadata": {},
   "outputs": [],
   "source": [
    "with open('tweetScrapeErrorIds.txt', 'w') as f:\n",
    "    for item in errorIds:\n",
    "        f.write(\"%s\\n\" % item)"
   ]
  }
 ],
 "metadata": {
  "kernelspec": {
   "display_name": "Python 3",
   "language": "python",
   "name": "python3"
  },
  "language_info": {
   "codemirror_mode": {
    "name": "ipython",
    "version": 3
   },
   "file_extension": ".py",
   "mimetype": "text/x-python",
   "name": "python",
   "nbconvert_exporter": "python",
   "pygments_lexer": "ipython3",
   "version": "3.7.4"
  }
 },
 "nbformat": 4,
 "nbformat_minor": 2
}
